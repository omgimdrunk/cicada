{
  "nbformat": 4,
  "nbformat_minor": 0,
  "metadata": {
    "colab": {
      "name": "Copy of Hello, Colaboratory",
      "version": "0.3.2",
      "provenance": [],
      "collapsed_sections": [],
      "include_colab_link": true
    },
    "kernelspec": {
      "display_name": "Python 3",
      "name": "python3"
    }
  },
  "cells": [
    {
      "cell_type": "markdown",
      "metadata": {
        "id": "view-in-github",
        "colab_type": "text"
      },
      "source": [
        "<a href=\"https://colab.research.google.com/github/omgimdrunk/txtmod/blob/master/txtmod.ipynb\" target=\"_parent\"><img src=\"https://colab.research.google.com/assets/colab-badge.svg\" alt=\"Open In Colab\"/></a>"
      ]
    },
    {
      "metadata": {
        "id": "SJvKkrMxosVS",
        "colab_type": "code",
        "colab": {
          "base_uri": "https://localhost:8080/",
          "height": 119
        },
        "outputId": "6e5320e2-5311-4dfa-f621-027ce1f0b0c0"
      },
      "cell_type": "code",
      "source": [
        "\n",
        "!pip install --upgrade /lib/cicada-0.5.10-py3-none-any.whl\n",
        "## !pip install loguru"
      ],
      "execution_count": 15,
      "outputs": [
        {
          "output_type": "stream",
          "text": [
            "Processing /lib/cicada-0.5.10-py3-none-any.whl\n",
            "Installing collected packages: cicada\n",
            "  Found existing installation: cicada 0.5.10\n",
            "    Uninstalling cicada-0.5.10:\n",
            "      Successfully uninstalled cicada-0.5.10\n",
            "Successfully installed cicada-0.5.10\n"
          ],
          "name": "stdout"
        }
      ]
    },
    {
      "metadata": {
        "id": "bXu6Kyd_ySKR",
        "colab_type": "text"
      },
      "cell_type": "markdown",
      "source": [
        "# New Section"
      ]
    },
    {
      "metadata": {
        "id": "ZAIyfxPf1k18",
        "colab_type": "code",
        "colab": {
          "base_uri": "https://localhost:8080/",
          "height": 514
        },
        "outputId": "4893330a-08f0-4f2a-bc3a-a8c66e7a688c"
      },
      "cell_type": "code",
      "source": [
        "from cicada.sockio import INET_TCP\n",
        "import sys\n",
        "import time\n",
        "\n",
        "print(dir(cicada))\n",
        "\n",
        "def intohere(data):\n",
        "    print(data, end='')\n",
        "\n",
        "\n",
        "def inetguest(typeinet):\n",
        "  with typeinet('freechess.org', 5000) as muhsock:\n",
        "    if muhsock.as_guest():\n",
        "      while muhsock.is_connected:\n",
        "        muhsock.read_into(on_read=intohere)\n",
        "        x = input(\">\");\n",
        "        try:\n",
        "          d_out = muhsock.write(x)\n",
        "        except Exception as E:\n",
        "          print(E)\n",
        "          sys.exit()\n",
        "        else:\n",
        "          sys.stdout.write(\"[{}] : {} sent \\n\".format(time.time(), d_out))\n",
        "\n",
        "                \n",
        "inetguest(INET_TCP)\n",
        "\n"
      ],
      "execution_count": 0,
      "outputs": [
        {
          "output_type": "stream",
          "text": [
            "['__all__', '__builtins__', '__cached__', '__doc__', '__file__', '__loader__', '__name__', '__package__', '__path__', '__spec__', '_sockio', 'sockio']\n",
            "\n",
            "             _       __     __                             __      \n",
            "            | |     / /__  / /________  ____ ___  ___     / /_____ \n",
            "            | | /| / / _ \\/ / ___/ __ \\/ __ `__ \\/ _ \\   / __/ __ \\\n",
            "            | |/ |/ /  __/ / /__/ /_/ / / / / / /  __/  / /_/ /_/ /\n",
            "            |__/|__/\\___/_/\\___/\\____/_/ /_/ /_/\\___/   \\__/\\____/ \n",
            "       ^^__                  _____________________                 _  _  _ \n",
            "      /  - \\_               / ____/  _/ ____/ ___/   _            | || || |\n",
            "    <|    __<              / /_   / // /    \\__ \\   (_)           |_______|\n",
            "    <|    \\               / __/ _/ // /___ ___/ /  _              \\__ ___ /\n",
            "    <|     \\             /_/   /___/\\____//____/  (_)              |___|_|\n",
            "    <|______\\                                                      |_|___|\n",
            "     _|____|_        ======================================        |___|_|\n",
            "    (________)         freechess.org  ----  167.114.65.195        (_______)\n",
            "    /________\\       ======================================       /_______\\ \n",
            "                       (Login screen designed by Alefith)\n",
            "\n",
            "   ****** Welcome to the Free Internet Chess Server at freechess.org ******\n",
            "\n",
            "Webpage: http://www.freechess.org\n",
            "Head admin : mattuc   Complaints to : complaints@freechess.org\n",
            "Server location: freechess.org   Server version : 1.25.20\n",
            "\n",
            "      If you are not a registered player, enter guest or a unique ID.\n",
            "             (If your return key does not work, use cntrl-J)\n",
            "\n",
            "login: "
          ],
          "name": "stdout"
        }
      ]
    },
    {
      "metadata": {
        "id": "MnzrSkEjyUIA",
        "colab_type": "code",
        "outputId": "325e2af2-1ec8-4dee-a2af-1cf4a1956daa",
        "colab": {
          "base_uri": "https://localhost:8080/",
          "height": 34
        }
      },
      "cell_type": "code",
      "source": [
        "# Install the PyDrive wrapper & import libraries.\n",
        "# This only needs to be done once in a notebook.\n",
        "!pip install -U -q PyDrive\n",
        "from pydrive.auth import GoogleAuth\n",
        "from pydrive.drive import GoogleDrive\n",
        "from google.colab import auth\n",
        "from oauth2client.client import GoogleCredentials\n",
        "\n",
        "# Authenticate and create the PyDrive client.\n",
        "# This only needs to be done once in a notebook.\n",
        "auth.authenticate_user()\n",
        "gauth = GoogleAuth()\n",
        "gauth.credentials = GoogleCredentials.get_application_default()\n",
        "drive = GoogleDrive(gauth)\n",
        "\n",
        "# Create & upload a text file.\n",
        "uploaded = drive.CreateFile({'title': 'Sample file.txt'})\n",
        "uploaded.SetContentString('Sample upload file content')\n",
        "uploaded.Upload()\n",
        "print('Uploaded file with ID {}'.format(uploaded.get('id')))"
      ],
      "execution_count": 0,
      "outputs": [
        {
          "output_type": "stream",
          "text": [
            "Uploaded file with ID 1rmHZPTeb0A3QlUAZaR_1tZrhu2-94SOB\n"
          ],
          "name": "stdout"
        }
      ]
    },
    {
      "metadata": {
        "colab_type": "code",
        "id": "oYZkU7ZN3CL0",
        "colab": {}
      },
      "cell_type": "code",
      "source": [
        " "
      ],
      "execution_count": 0,
      "outputs": []
    },
    {
      "metadata": {
        "colab_type": "text",
        "id": "yv2XIwi5hQ_g"
      },
      "cell_type": "markdown",
      "source": [
        "### Visualization"
      ]
    },
    {
      "metadata": {
        "colab_type": "text",
        "id": "rYs5mx2JZkmy"
      },
      "cell_type": "markdown",
      "source": [
        "Colaboratory includes widely used libraries like [matplotlib](https://matplotlib.org/), simplifying visualization."
      ]
    },
    {
      "metadata": {
        "id": "M8f8jH9LwBEi",
        "colab_type": "code",
        "colab": {}
      },
      "cell_type": "code",
      "source": [
        ""
      ],
      "execution_count": 0,
      "outputs": []
    },
    {
      "metadata": {
        "id": "RC7txm8K0f7_",
        "colab_type": "text"
      },
      "cell_type": "markdown",
      "source": [
        "# New Section"
      ]
    }
  ]
}