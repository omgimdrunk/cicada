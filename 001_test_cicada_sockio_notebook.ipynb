{
  "nbformat": 4,
  "nbformat_minor": 0,
  "metadata": {
    "colab": {
      "name": "Copy of Copy of Hello, Colaboratory",
      "version": "0.3.2",
      "provenance": [],
      "collapsed_sections": [],
      "toc_visible": true,
      "include_colab_link": true
    },
    "kernelspec": {
      "display_name": "Python 3",
      "name": "python3"
    }
  },
  "cells": [
    {
      "cell_type": "markdown",
      "metadata": {
        "id": "view-in-github",
        "colab_type": "text"
      },
      "source": [
        "<a href=\"https://colab.research.google.com/github/omgimdrunk/cicada/blob/master/001_test_cicada_sockio_notebook.ipynb\" target=\"_parent\"><img src=\"https://colab.research.google.com/assets/colab-badge.svg\" alt=\"Open In Colab\"/></a>"
      ]
    },
    {
      "metadata": {
        "id": "XlrPVwyqCkGr",
        "colab_type": "text"
      },
      "cell_type": "markdown",
      "source": [
        "\n",
        "## .: Intro to the cicada python daemon library :. \n",
        " \n"
      ]
    },
    {
      "metadata": {
        "id": "loE0T33BDhtT",
        "colab_type": "text"
      },
      "cell_type": "markdown",
      "source": [
        "###  :: Install cicada and loguru ::\n",
        "\n",
        "<hr color=\"#444567\">\n",
        "\n",
        "&nbsp;\n"
      ]
    },
    {
      "metadata": {
        "id": "SJvKkrMxosVS",
        "colab_type": "code",
        "outputId": "99b72c33-9855-4deb-9459-bd0976257b61",
        "colab": {
          "base_uri": "https://localhost:8080/",
          "height": 503
        }
      },
      "cell_type": "code",
      "source": [
        "!pip install https://github.com/omgimdrunk/cicada/raw/master/dist/cicada-0.5.10-py3-none-any.whl\n",
        "!pip install --upgrade loguru"
      ],
      "execution_count": 0,
      "outputs": [
        {
          "output_type": "stream",
          "text": [
            "Collecting cicada==0.5.10 from https://github.com/omgimdrunk/cicada/raw/master/dist/cicada-0.5.10-py3-none-any.whl\n",
            "  Downloading https://github.com/omgimdrunk/cicada/raw/master/dist/cicada-0.5.10-py3-none-any.whl\n",
            "Installing collected packages: cicada\n",
            "Successfully installed cicada-0.5.10\n",
            "Collecting loguru\n",
            "\u001b[?25l  Downloading https://files.pythonhosted.org/packages/55/e0/461d6e5427c90fea5fcc72e364a5e742f8c1c306622685ec61b1e93a798e/loguru-0.2.4-py3-none-any.whl (40kB)\n",
            "\u001b[K    100% |████████████████████████████████| 40kB 2.0MB/s \n",
            "\u001b[?25hCollecting ansimarkup>=1.4.0 (from loguru)\n",
            "  Downloading https://files.pythonhosted.org/packages/8f/3b/be9c9da51fc950c58f64221676f5d2972a4003dc4ac05642cb6d279a281a/ansimarkup-1.4.0-py2.py3-none-any.whl\n",
            "Collecting colorama>=0.3.4 (from loguru)\n",
            "  Downloading https://files.pythonhosted.org/packages/4f/a6/728666f39bfff1719fc94c481890b2106837da9318031f71a8424b662e12/colorama-0.4.1-py2.py3-none-any.whl\n",
            "Collecting better-exceptions-fork>=0.2.1.post6 (from loguru)\n",
            "\u001b[?25l  Downloading https://files.pythonhosted.org/packages/55/7b/eaa2e2876ea80169adfb7304339b4d735c1d445efc5402da39cd918a6d45/better_exceptions_fork-0.2.1.post6.tar.gz (49kB)\n",
            "\u001b[K    100% |████████████████████████████████| 51kB 3.8MB/s \n",
            "\u001b[?25hCollecting pygments>=2.2.0 (from better-exceptions-fork>=0.2.1.post6->loguru)\n",
            "\u001b[?25l  Downloading https://files.pythonhosted.org/packages/13/e5/6d710c9cf96c31ac82657bcfb441df328b22df8564d58d0c4cd62612674c/Pygments-2.3.1-py2.py3-none-any.whl (849kB)\n",
            "\u001b[K    100% |████████████████████████████████| 849kB 5.8MB/s \n",
            "\u001b[?25hBuilding wheels for collected packages: better-exceptions-fork\n",
            "  Running setup.py bdist_wheel for better-exceptions-fork ... \u001b[?25l-\b \bdone\n",
            "\u001b[?25h  Stored in directory: /root/.cache/pip/wheels/17/76/fe/1ef5b01486e6a3689ba887c654c8073fe0c6c7443b5f68a57c\n",
            "Successfully built better-exceptions-fork\n",
            "\u001b[31mjupyter-console 6.0.0 has requirement prompt-toolkit<2.1.0,>=2.0.0, but you'll have prompt-toolkit 1.0.15 which is incompatible.\u001b[0m\n",
            "\u001b[31mcufflinks 0.14.6 has requirement plotly>=3.0.0, but you'll have plotly 1.12.12 which is incompatible.\u001b[0m\n",
            "Installing collected packages: colorama, ansimarkup, pygments, better-exceptions-fork, loguru\n",
            "  Found existing installation: Pygments 2.1.3\n",
            "    Uninstalling Pygments-2.1.3:\n",
            "      Successfully uninstalled Pygments-2.1.3\n",
            "Successfully installed ansimarkup-1.4.0 better-exceptions-fork-0.2.1.post6 colorama-0.4.1 loguru-0.2.4 pygments-2.3.1\n"
          ],
          "name": "stdout"
        }
      ]
    },
    {
      "metadata": {
        "id": "bXu6Kyd_ySKR",
        "colab_type": "text"
      },
      "cell_type": "markdown",
      "source": [
        " ### :: Creating client socket and threading read out ::\n",
        "<hr color=\"#444567\">\n",
        "\n",
        "&nbsp;\n"
      ]
    },
    {
      "metadata": {
        "id": "ZAIyfxPf1k18",
        "colab_type": "code",
        "colab": {}
      },
      "cell_type": "code",
      "source": [
        "from cicada.sockio import INET_TCP\n",
        "import sys\n",
        "import time\n",
        "\n",
        "\n",
        "\n",
        "def intohere(data):\n",
        "    sys.stdout.write(\"{}\".format(data))\n",
        "    sys.stdout.flush()\n",
        "\n",
        "def inetguest(typeinet):\n",
        "  \"\"\"\n",
        "    read_into :: def read_into(self, on_read)\n",
        "\n",
        "      This will dup the socket but doesn't destroy the parent!\n",
        "      From this point on it can only read,\n",
        "      while the parent can only write.\n",
        "  \n",
        "  \"\"\"\n",
        "  with typeinet('freechess.org', 5000) as muhsock:\n",
        "    if muhsock.as_guest():\n",
        "      muhsock.read_into(on_read=intohere)\n",
        "      while muhsock.is_connected:\n",
        "        x = input();\n",
        "        try:\n",
        "          d_out = muhsock.write(x)\n",
        "        except Exception as E:\n",
        "          sys.stderr.write(\"[{}] : {} {} !err \\n\".format(time.time(), E, d_out))\n",
        "          sys.exit()\n",
        "\n",
        "                \n",
        "inetguest(INET_TCP)\n",
        "\n"
      ],
      "execution_count": 0,
      "outputs": []
    },
    {
      "metadata": {
        "id": "qX9xZFvk_Ini",
        "colab_type": "text"
      },
      "cell_type": "markdown",
      "source": [
        "### :: Compile C and link to py quickly\n",
        "<hr color=\"#444567\">\n",
        "\n",
        "&nbsp;\n"
      ]
    },
    {
      "metadata": {
        "id": "aK39BZmd62ZS",
        "colab_type": "code",
        "outputId": "411c0c76-6e1f-4a7c-c092-ac9ad3f83e49",
        "colab": {
          "base_uri": "https://localhost:8080/",
          "height": 34
        }
      },
      "cell_type": "code",
      "source": [
        "!echo -e ' #include <stdio.h> \\n int main(){ printf(\"%s\", \"aaaannnnndddd we have a SUPA C COMPILA!\"); return 0; }' > gcctest.c\n",
        "!gcc gcctest.c -o gcctest.o\n",
        "!./gcctest.o"
      ],
      "execution_count": 2,
      "outputs": [
        {
          "output_type": "stream",
          "text": [
            "aaaannnnndddd we have a SUPA C COMPILA!"
          ],
          "name": "stdout"
        }
      ]
    },
    {
      "metadata": {
        "id": "IM5OLSuQ_uVN",
        "colab_type": "text"
      },
      "cell_type": "markdown",
      "source": [
        "# New Section"
      ]
    },
    {
      "metadata": {
        "id": "iz4HDHat_vYP",
        "colab_type": "code",
        "colab": {
          "base_uri": "https://localhost:8080/",
          "height": 104
        },
        "outputId": "e43d0de2-8c34-48a1-a3ce-cad4199b66da"
      },
      "cell_type": "code",
      "source": [
        "!ls -lth\n",
        "!uname -m"
      ],
      "execution_count": 4,
      "outputs": [
        {
          "output_type": "stream",
          "text": [
            "total 20K\n",
            "-rwxr-xr-x 1 root root 8.2K Jan 11 08:19 gcctest.o\n",
            "-rw-r--r-- 1 root root  103 Jan 11 08:19 gcctest.c\n",
            "drwxr-xr-x 1 root root 4.0K Jan  8 17:15 sample_data\n",
            "x86_64\n"
          ],
          "name": "stdout"
        }
      ]
    }
  ]
}