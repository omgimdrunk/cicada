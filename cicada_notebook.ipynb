{
  "nbformat": 4,
  "nbformat_minor": 0,
  "metadata": {
    "colab": {
      "name": "Copy of Hello, Colaboratory",
      "version": "0.3.2",
      "provenance": [],
      "collapsed_sections": [],
      "include_colab_link": true
    },
    "kernelspec": {
      "display_name": "Python 3",
      "name": "python3"
    }
  },
  "cells": [
    {
      "cell_type": "markdown",
      "metadata": {
        "id": "view-in-github",
        "colab_type": "text"
      },
      "source": [
        "<a href=\"https://colab.research.google.com/github/omgimdrunk/txtmod/blob/master/cicada_notebook.ipynb\" target=\"_parent\"><img src=\"https://colab.research.google.com/assets/colab-badge.svg\" alt=\"Open In Colab\"/></a>"
      ]
    },
    {
      "metadata": {
        "id": "XlrPVwyqCkGr",
        "colab_type": "text"
      },
      "cell_type": "markdown",
      "source": [
        "\n",
        "## .: Intro to the cicada python daemon library :. \n",
        " \n"
      ]
    },
    {
      "metadata": {
        "id": "loE0T33BDhtT",
        "colab_type": "text"
      },
      "cell_type": "markdown",
      "source": [
        "###  :: Install cicada and loguru ::\n",
        "\n",
        "<hr color=\"#444567\">\n",
        "\n",
        "&nbsp;\n"
      ]
    },
    {
      "metadata": {
        "id": "SJvKkrMxosVS",
        "colab_type": "code",
        "colab": {
          "base_uri": "https://localhost:8080/",
          "height": 119
        },
        "outputId": "6e5320e2-5311-4dfa-f621-027ce1f0b0c0"
      },
      "cell_type": "code",
      "source": [
        "\n",
        "!pip install --upgrade /lib/cicada-0.5.10-py3-none-any.whl\n",
        "!pip install --upgrade loguru"
      ],
      "execution_count": 15,
      "outputs": [
        {
          "output_type": "stream",
          "text": [
            "Processing /lib/cicada-0.5.10-py3-none-any.whl\n",
            "Installing collected packages: cicada\n",
            "  Found existing installation: cicada 0.5.10\n",
            "    Uninstalling cicada-0.5.10:\n",
            "      Successfully uninstalled cicada-0.5.10\n",
            "Successfully installed cicada-0.5.10\n"
          ],
          "name": "stdout"
        }
      ]
    },
    {
      "metadata": {
        "id": "bXu6Kyd_ySKR",
        "colab_type": "text"
      },
      "cell_type": "markdown",
      "source": [
        " ### :: Creating client socket and threading read out ::\n",
        "<hr color=\"#444567\">\n",
        "\n",
        "&nbsp;\n"
      ]
    },
    {
      "metadata": {
        "id": "ZAIyfxPf1k18",
        "colab_type": "code",
        "colab": {
          "base_uri": "https://localhost:8080/",
          "height": 548
        },
        "outputId": "3aacb01b-1cbd-40ed-883b-beffa547f5f1"
      },
      "cell_type": "code",
      "source": [
        "from cicada.sockio import INET_TCP\n",
        "import sys\n",
        "import time\n",
        "\n",
        "print(dir(cicada))\n",
        "\n",
        "def intohere(data):\n",
        "    sys.stdout.write(\"{}\".format(data))\n",
        "    sys.stdout.flush()\n",
        "\n",
        "def inetguest(typeinet):\n",
        "  \"\"\"\n",
        "    read_into :: def read_into(self, on_read)\n",
        "\n",
        "      This will dup the socket but doesn't destroy the parent!\n",
        "      From this point on it can only read,\n",
        "      while the parent can only write.\n",
        "  \n",
        "  \"\"\"\n",
        "  with typeinet('freechess.org', 5000) as muhsock:\n",
        "    if muhsock.as_guest():\n",
        "      muhsock.read_into(on_read=intohere)\n",
        "      while muhsock.is_connected:\n",
        "        x = input();\n",
        "        try:\n",
        "          d_out = muhsock.write(x)\n",
        "        except Exception as E:\n",
        "          sys.stderr.write(\"[{}] : {} {} !err \\n\".format(time.time(), E, d_out))\n",
        "          sys.exit()\n",
        "\n",
        "                \n",
        "inetguest(INET_TCP)\n",
        "\n"
      ],
      "execution_count": 0,
      "outputs": [
        {
          "output_type": "stream",
          "text": [
            "['__all__', '__builtins__', '__cached__', '__doc__', '__file__', '__loader__', '__name__', '__package__', '__path__', '__spec__', '_sockio', 'sockio']\n",
            "\n",
            "             _       __     __                             __      \n",
            "            | |     / /__  / /________  ____ ___  ___     / /_____ \n",
            "            | | /| / / _ \\/ / ___/ __ \\/ __ `__ \\/ _ \\   / __/ __ \\\n",
            "            | |/ |/ /  __/ / /__/ /_/ / / / / / /  __/  / /_/ /_/ /\n",
            "            |__/|__/\\___/_/\\___/\\____/_/ /_/ /_/\\___/   \\__/\\____/ \n",
            "       ^^__                  _____________________                 _  _  _ \n",
            "      /  - \\_               / ____/  _/ ____/ ___/   _            | || || |\n",
            "    <|    __<              / /_   / // /    \\__ \\   (_)           |_______|\n",
            "    <|    \\               / __/ _/ // /___ ___/ /  _              \\__ ___ /\n",
            "    <|     \\             /_/   /___/\\____//____/  (_)              |___|_|\n",
            "    <|______\\                                                      |_|___|\n",
            "     _|____|_        ======================================        |___|_|\n",
            "    (________)         freechess.org  ----  167.114.65.195        (_______)\n",
            "    /________\\       ======================================       /_______\\ \n",
            "                       (Login screen designed by Alefith)\n",
            "\n",
            "   ****** Welcome to the Free Internet Chess Server at freechess.org ******\n",
            "\n",
            "Webpage: http://www.freechess.org\n",
            "Head admin : mattuc   Complaints to : complaints@freechess.org\n",
            "Server location: freechess.org   Server version : 1.25.20\n",
            "\n",
            "      If you are not a registered player, enter guest or a unique ID.\n",
            "             (If your return key does not work, use cntrl-J)\n",
            "\n",
            "login: \n",
            "**** LOGIN TIMEOUT ****\n",
            "<socket.socket fd=57, family=AddressFamily.AF_INET, type=SocketKind.SOCK_STREAM, proto=0, laddr=('172.28.0.2', 43302), raddr=('167.114.65.195', 5000)>\n"
          ],
          "name": "stdout"
        }
      ]
    }
  ]
}